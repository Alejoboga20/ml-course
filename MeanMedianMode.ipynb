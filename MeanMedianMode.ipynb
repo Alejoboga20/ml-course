{
 "cells": [
  {
   "cell_type": "markdown",
   "metadata": {},
   "source": [
    "# Mean, Median, Mode, and introducing NumPy"
   ]
  },
  {
   "cell_type": "markdown",
   "metadata": {},
   "source": [
    "## Mean vs. Median"
   ]
  },
  {
   "cell_type": "markdown",
   "metadata": {},
   "source": [
    "Let's create some fake income data, centered around 27,000 with a normal distribution and standard deviation of 15,000, with 10,000 data points. (We'll discuss those terms more later, if you're not familiar with them.)\n",
    "\n",
    "Then, compute the mean (average) - it should be close to 27,000:"
   ]
  },
  {
   "cell_type": "code",
   "execution_count": 1,
   "metadata": {},
   "outputs": [
    {
     "data": {
      "text/plain": [
       "27196.825610757987"
      ]
     },
     "execution_count": 1,
     "metadata": {},
     "output_type": "execute_result"
    }
   ],
   "source": [
    "import numpy as np\n",
    "\n",
    "incomes = np.random.normal(27000, 15000, 10000)\n",
    "np.mean(incomes)"
   ]
  },
  {
   "cell_type": "markdown",
   "metadata": {},
   "source": [
    "We can segment the income data into 50 buckets, and plot it as a histogram:"
   ]
  },
  {
   "cell_type": "code",
   "execution_count": 2,
   "metadata": {},
   "outputs": [
    {
     "data": {
      "image/png": "[encoded data removed]",
      "text/plain": [
       "<Figure size 432x288 with 1 Axes>"
      ]
     },
     "metadata": {
      "needs_background": "light"
     },
     "output_type": "display_data"
    }
   ],
   "source": [
    "%matplotlib inline\n",
    "import matplotlib.pyplot as plt\n",
    "plt.hist(incomes, 50)\n",
    "plt.show()"
   ]
  },
  {
   "cell_type": "markdown",
   "metadata": {},
   "source": [
    "Now compute the median - since we have a nice, even distribution it too should be close to 27,000:"
   ]
  },
  {
   "cell_type": "code",
   "execution_count": 3,
   "metadata": {},
   "outputs": [
    {
     "data": {
      "text/plain": [
       "27255.327189300115"
      ]
     },
     "execution_count": 3,
     "metadata": {},
     "output_type": "execute_result"
    }
   ],
   "source": [
    "np.median(incomes)"
   ]
  },
  {
   "cell_type": "markdown",
   "metadata": {},
   "source": [
    "Now we'll add Jeff Bezos into the mix. Darn income inequality!"
   ]
  },
  {
   "cell_type": "code",
   "execution_count": 4,
   "metadata": {},
   "outputs": [],
   "source": [
    "incomes = np.append(incomes, [1000000000])"
   ]
  },
  {
   "cell_type": "markdown",
   "metadata": {},
   "source": [
    "The median won't change much, but the mean does:"
   ]
  },
  {
   "cell_type": "code",
   "execution_count": 5,
   "metadata": {},
   "outputs": [
    {
     "data": {
      "text/plain": [
       "27257.837456198165"
      ]
     },
     "execution_count": 5,
     "metadata": {},
     "output_type": "execute_result"
    }
   ],
   "source": [
    "np.median(incomes)"
   ]
  },
  {
   "cell_type": "code",
   "execution_count": 6,
   "metadata": {},
   "outputs": [
    {
     "data": {
      "text/plain": [
       "127184.107200038"
      ]
     },
     "execution_count": 6,
     "metadata": {},
     "output_type": "execute_result"
    }
   ],
   "source": [
    "np.mean(incomes)"
   ]
  },
  {
   "cell_type": "markdown",
   "metadata": {},
   "source": [
    "## Mode"
   ]
  },
  {
   "cell_type": "markdown",
   "metadata": {},
   "source": [
    "Next, let's generate some fake age data for 500 people:"
   ]
  },
  {
   "cell_type": "code",
   "execution_count": 7,
   "metadata": {},
   "outputs": [
    {
     "data": {
      "text/plain": [
       "array([63, 30, 43, 31, 73, 70, 69, 63, 45, 26, 67, 88, 75, 33, 23, 63, 61,\n",
       "       50, 83, 84, 85, 68, 19, 22, 60, 35, 70, 32, 18, 49, 66, 26, 56, 81,\n",
       "       29, 30, 67, 60, 46, 73, 38, 54, 64, 62, 19, 67, 81, 77, 28, 89, 40,\n",
       "       44, 70, 81, 23, 50, 66, 57, 70, 53, 80, 43, 34, 43, 73, 19, 68, 20,\n",
       "       39, 81, 69, 34, 32, 87, 68, 50, 42, 37, 84, 32, 54, 83, 64, 46, 76,\n",
       "       45, 32, 78, 55, 48, 64, 81, 20, 54, 58, 84, 22, 77, 40, 87, 74, 42,\n",
       "       54, 81, 70, 18, 73, 58, 43, 39, 62, 33, 33, 21, 54, 41, 32, 32, 85,\n",
       "       52, 83, 24, 18, 62, 37, 85, 85, 60, 36, 42, 37, 75, 19, 37, 84, 73,\n",
       "       53, 29, 83, 57, 77, 87, 19, 49, 47, 52, 22, 44, 45, 48, 37, 76, 43,\n",
       "       42, 29, 53, 62, 30, 32, 62, 19, 24, 26, 37, 25, 68, 41, 89, 72, 44,\n",
       "       68, 47, 56, 65, 75, 80, 43, 44, 84, 64, 52, 81, 53, 73, 22, 50, 73,\n",
       "       35, 42, 50, 53, 83, 66, 53, 78, 81, 44, 86, 50, 62, 63, 31, 77, 50,\n",
       "       21, 68, 19, 54, 26, 77, 54, 37, 62, 46, 56, 80, 85, 18, 23, 68, 21,\n",
       "       24, 72, 62, 55, 81, 80, 23, 20, 30, 49, 22, 36, 22, 84, 20, 88, 60,\n",
       "       69, 56, 31, 65, 84, 43, 22, 69, 89, 50, 39, 33, 74, 62, 60, 74, 28,\n",
       "       33, 37, 56, 32, 74, 29, 36, 77, 69, 39, 80, 60, 32, 47, 80, 53, 72,\n",
       "       48, 79, 85, 74, 43, 42, 25, 54, 78, 55, 88, 22, 21, 28, 60, 53, 25,\n",
       "       77, 70, 44, 66, 24, 74, 89, 25, 68, 21, 77, 37, 40, 58, 77, 25, 42,\n",
       "       23, 53, 21, 59, 26, 19, 59, 21, 18, 30, 28, 49, 59, 88, 74, 23, 34,\n",
       "       50, 24, 21, 48, 68, 79, 66, 33, 34, 28, 47, 79, 32, 72, 76, 89, 47,\n",
       "       38, 38, 29, 28, 40, 36, 83, 52, 81, 84, 22, 40, 24, 37, 71, 24, 59,\n",
       "       71, 85, 58, 31, 61, 85, 24, 58, 62, 31, 20, 27, 53, 41, 61, 58, 52,\n",
       "       40, 72, 33, 47, 20, 81, 42, 23, 49, 72, 65, 45, 62, 67, 45, 52, 65,\n",
       "       85, 31, 43, 51, 60, 74, 74, 63, 74, 30, 63, 82, 89, 39, 65, 45, 68,\n",
       "       52, 74, 76, 75, 54, 73, 87, 54, 67, 22, 34, 59, 19, 53, 76, 72, 77,\n",
       "       19, 31, 80, 32, 55, 88, 66, 33, 47, 72, 68, 87, 50, 51, 76, 76, 60,\n",
       "       51, 36, 80, 58, 71, 22, 33, 64, 70, 41, 49, 31, 47, 39, 49, 21, 80,\n",
       "       58, 56, 70, 44, 48, 61, 54, 49, 39, 74, 79, 26, 86, 66, 76, 37, 21,\n",
       "       19, 56, 21, 21, 30, 61, 21, 82, 63, 35, 28, 35, 59, 55, 64, 85, 59,\n",
       "       55, 29, 18, 69, 45, 88, 34])"
      ]
     },
     "execution_count": 7,
     "metadata": {},
     "output_type": "execute_result"
    }
   ],
   "source": [
    "ages = np.random.randint(18, high=90, size=500)\n",
    "ages"
   ]
  },
  {
   "cell_type": "code",
   "execution_count": 8,
   "metadata": {},
   "outputs": [
    {
     "data": {
      "text/plain": [
       "ModeResult(mode=array([21]), count=array([13]))"
      ]
     },
     "execution_count": 8,
     "metadata": {},
     "output_type": "execute_result"
    }
   ],
   "source": [
    "from scipy import stats\n",
    "stats.mode(ages)"
   ]
  },
  {
   "cell_type": "code",
   "execution_count": null,
   "metadata": {},
   "outputs": [],
   "source": []
  }
 ],
 "metadata": {
  "kernelspec": {
   "display_name": "Python 3.9.12 ('base')",
   "language": "python",
   "name": "python3"
  },
  "language_info": {
   "codemirror_mode": {
    "name": "ipython",
    "version": 3
   },
   "file_extension": ".py",
   "mimetype": "text/x-python",
   "name": "python",
   "nbconvert_exporter": "python",
   "pygments_lexer": "ipython3",
   "version": "3.9.12"
  },
  "vscode": {
   "interpreter": {
    "hash": "ee5e5796f080619e6299841264597eb6fccb7c7cb6101e34edcef09f98221eb4"
   }
  }
 },
 "nbformat": 4,
 "nbformat_minor": 1
}
